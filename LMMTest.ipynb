{
 "cells": [
  {
   "cell_type": "code",
   "execution_count": 3,
   "metadata": {
    "collapsed": true
   },
   "outputs": [],
   "source": [
    "from LMM import *"
   ]
  },
  {
   "cell_type": "code",
   "execution_count": 4,
   "metadata": {},
   "outputs": [],
   "source": [
    "ctp = [0.25 * (i + 1) for i in range(10)]\n",
    "r0 = RateStructure(0.0, [0.005, 0.01, 0.016, 0.02, 0.024, 0.027, 0.03, 0.033, 0.035, 0.037])\n",
    "dt = [0.25 for i in range(10)]\n",
    "ind = 5\n",
    "\n",
    "tarVol = [0.38, 0.385, 0.396666667, 0.405, 0.412, 0.411666667, 0.408571429, 0.405, 0.398888889, 0.392]\n",
    "\n",
    "tarCor = [(0.25, 1.0, 0.3), (0.25, 1.25, 0.32), (0.25, 1.5, 0.33), (0.5, 1.0, 0.31), (0.5, 1.5, 0.34)]\n",
    "\n",
    "vola = vol2([0.2 for i in range(10)])\n",
    "volb = vol6(0.2, 0.3, 0.4, 0.5)\n",
    "volc = vol7(0.2, 0.3, 0.4, 0.5, [0.2 for i in range(11)])\n",
    "\n",
    "cora = Corr1(0.9)\n",
    "corb = Corr2(0.9, 0.9)\n",
    "\n",
    "a = vol2([random.random() for i in range(10)])\n",
    "a.calibrate([0.38, 0.385, 0.396666667, 0.405, 0.412, 0.411666667, 0.408571429, 0.405, 0.398888889, 0.392],\n",
    "            [0.25 * i for i in range(1, 11)],\n",
    "            [0.25 for i in range(10)])"
   ]
  },
  {
   "cell_type": "code",
   "execution_count": 5,
   "metadata": {},
   "outputs": [],
   "source": [
    "\n",
    "testLMM = IterPredCorrect(r0, vola, cora, ctp, dt, ind, 0.25)\n",
    "\n",
    "testLMM.calibrate(tarVol, tarCor)\n"
   ]
  },
  {
   "cell_type": "code",
   "execution_count": 6,
   "metadata": {},
   "outputs": [
    {
     "name": "stdout",
     "output_type": "stream",
     "text": [
      "[-0.001856080721471243, -0.0020060115918751373, -0.002000056790372295, -0.0016487561283956968, -0.00096337665544274592, 0.0, 0.0011292626788018431, 0.0020533065470711544, 0.0025364519401369838, 0.0028516724635996066]\n"
     ]
    }
   ],
   "source": [
    "\n",
    "print(testLMM.getDrift(r0))\n"
   ]
  },
  {
   "cell_type": "code",
   "execution_count": 7,
   "metadata": {},
   "outputs": [],
   "source": [
    "aRes = testLMM.simulate(1.5)\n"
   ]
  },
  {
   "cell_type": "code",
   "execution_count": 11,
   "metadata": {},
   "outputs": [
    {
     "name": "stdout",
     "output_type": "stream",
     "text": [
      "At time 0.0, the rate structure is [0.005, 0.01, 0.016, 0.02, 0.024, 0.027, 0.03, 0.033, 0.035, 0.037]\nAt time 0.25, the rate structure is [0.0060039263771983434, 0.010540060836634927, 0.013383045109547929, 0.01285679827201059, 0.023377878509126454, 0.029619272289750326, 0.023717724886659273, 0.030492126865755483, 0.034688066791721262, 0.039456637251517393]\nAt time 0.5, the rate structure is [0.0077372599892841683, 0.013249175830393686, 0.015082855653007531, 0.0078124551680442637, 0.016498225679725628, 0.030637780834401624, 0.024569403119596336, 0.028037426749887642, 0.035317908222298716, 0.035509806377372388]\nAt time 0.75, the rate structure is [None, 0.011995484718449623, 0.012060484652917855, 0.0072044348276332605, 0.016864406166195833, 0.034117112330264925, 0.020692740923593182, 0.032731700486705463, 0.02653375705374553, 0.047766963627772427]\nAt time 1.0, the rate structure is [None, None, 0.014086532219429002, 0.0060943318494634134, 0.011361035343803555, 0.019452003839513881, 0.024009735409386054, 0.033412001001424503, 0.029176901020386434, 0.040082857687295186]\nAt time 1.25, the rate structure is [None, None, None, 0.0054512568247816169, 0.012153416809544734, 0.021005324781281389, 0.026014642239968779, 0.028795375300926341, 0.025625034876109818, 0.044361643344215551]\nAt time 1.5, the rate structure is [None, None, None, None, 0.012571651132881185, 0.033700455105106462, 0.016786814745350941, 0.02682593837126368, 0.022730405925153224, 0.048177776085159572]\nAt time 1.75, the rate structure is [None, None, None, None, None, 0.030005526852232813, 0.019426208632401402, 0.032766571456300075, 0.015377377755592727, 0.057495534966848463]\n"
     ]
    }
   ],
   "source": [
    "\n",
    "for ele in aRes:\n",
    "    print(ele)"
   ]
  },
  {
   "cell_type": "code",
   "execution_count": 13,
   "metadata": {},
   "outputs": [
    {
     "name": "stdout",
     "output_type": "stream",
     "text": [
      "0.015082855653\n"
     ]
    }
   ],
   "source": [
    "print(aRes.get(0.5, 2))"
   ]
  },
  {
   "cell_type": "code",
   "execution_count": 9,
   "metadata": {},
   "outputs": [
    {
     "data": {
      "text/plain": [
       "1"
      ]
     },
     "execution_count": 9,
     "metadata": {},
     "output_type": "execute_result"
    }
   ],
   "source": [
    "\n",
    "bisect.bisect_left(ctp, 0.25 + 0.25)\n"
   ]
  },
  {
   "cell_type": "code",
   "execution_count": 10,
   "metadata": {},
   "outputs": [
    {
     "data": {
      "text/plain": [
       "[None,\n -0.0014987663724262629,\n -0.0013548323801683708,\n -0.0014810012020347949,\n -0.0011428929070553305,\n 0.0,\n 0.0010262053882460114,\n 0.0018343464088111784,\n 0.0026831162078510573,\n 0.0030106912293081174]"
      ]
     },
     "execution_count": 10,
     "metadata": {},
     "output_type": "execute_result"
    }
   ],
   "source": [
    "testLMM.getDrift(aRes[2])"
   ]
  },
  {
   "cell_type": "code",
   "execution_count": null,
   "metadata": {},
   "outputs": [],
   "source": []
  }
 ],
 "metadata": {
  "kernelspec": {
   "display_name": "Python 2",
   "language": "python",
   "name": "python2"
  },
  "language_info": {
   "codemirror_mode": {
    "name": "ipython",
    "version": 2
   },
   "file_extension": ".py",
   "mimetype": "text/x-python",
   "name": "python",
   "nbconvert_exporter": "python",
   "pygments_lexer": "ipython2",
   "version": "2.7.6"
  }
 },
 "nbformat": 4,
 "nbformat_minor": 0
}
