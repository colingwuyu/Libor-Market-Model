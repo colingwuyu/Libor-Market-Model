{
 "cells": [
  {
   "cell_type": "code",
   "execution_count": 1,
   "metadata": {
    "collapsed": true
   },
   "outputs": [],
   "source": [
    "from LMM import *\n",
    "import random"
   ]
  },
  {
   "cell_type": "code",
   "execution_count": 2,
   "metadata": {},
   "outputs": [],
   "source": [
    "ctp = [0.25 * (i + 1) for i in range(10)]\n",
    "r0 = RateStructure(0.0, [0.005, 0.01, 0.016, 0.02, 0.024, 0.027, 0.03, 0.033, 0.035, 0.037])\n",
    "dt = [0.25 for i in range(10)]\n",
    "ind = 5\n",
    "\n",
    "tarVol = [0.38, 0.385, 0.396666667, 0.405, 0.412, \n",
    "          0.411666667, 0.408571429, 0.405, 0.398888889, 0.392]\n",
    "\n",
    "tarCor = [(0.25, 1.0, 0.3), (0.25, 1.25, 0.32), \n",
    "          (0.25, 1.5, 0.33), (0.5, 1.0, 0.31), (0.5, 1.5, 0.34)]\n",
    "\n",
    "vola = vol2([0.2 for i in range(10)])\n",
    "volb = vol6(0.2, 0.3, 0.4, 0.5)\n",
    "volc = vol7(0.2, 0.3, 0.4, 0.5, [0.2 for i in range(11)])\n",
    "\n",
    "cora = Corr1(0.9)\n",
    "corb = Corr2(0.9, 0.9)\n",
    "\n",
    "a = vol2([random.random() for i in range(10)])"
   ]
  },
  {
   "cell_type": "markdown",
   "metadata": {},
   "source": [
    "#Before Calibration"
   ]
  },
  {
   "cell_type": "code",
   "execution_count": 3,
   "metadata": {},
   "outputs": [
    {
     "name": "stdout",
     "output_type": "stream",
     "text": [
      "vola = [0.2, 0.2, 0.2, 0.2, 0.2, 0.2, 0.2, 0.2, 0.2, 0.2]\nvolc = sigma(t) = phi(i) * [ a( T(i) - t ) + d ] * exp( -b * ( T(i) - t ) ) + c, a = 0.2, b = 0.3, c = 0.4, d = 0.5\nphi = [0.2, 0.2, 0.2, 0.2, 0.2, 0.2, 0.2, 0.2, 0.2, 0.2, 0.2]\n"
     ]
    }
   ],
   "source": [
    "print(\"vola = \" + str(vola))\n",
    "print(\"volc = \" + str(volc))"
   ]
  },
  {
   "cell_type": "code",
   "execution_count": 4,
   "metadata": {},
   "outputs": [],
   "source": [
    "vola.calibrate(tarVol,\n",
    "            [0.25 * i for i in range(1, 11)],\n",
    "            [0.25 for i in range(10)])\n",
    "volb.calibrate(tarVol,\n",
    "            [0.25 * i for i in range(1, 11)],\n",
    "            [0.25 for i in range(10)])\n",
    "volc = vol7(volb.a, volb.b, volb.c, volb.d, \n",
    "            [0.2 for i in range(len(tarVol))])\n",
    "volc.calibrate(tarVol,\n",
    "               [0.25 * i for i in range(1, 11)],\n",
    "               [0.25 for i in range(10)])"
   ]
  },
  {
   "cell_type": "code",
   "execution_count": 5,
   "metadata": {},
   "outputs": [],
   "source": [
    "\n",
    "testLMM = IterPredCorrect(r0, vola, cora, ctp, dt, ind, 0.25)\n",
    "\n",
    "testLMM.calibrate(tarVol, tarCor)\n"
   ]
  },
  {
   "cell_type": "markdown",
   "metadata": {},
   "source": [
    "#After Calibration"
   ]
  },
  {
   "cell_type": "code",
   "execution_count": 6,
   "metadata": {},
   "outputs": [
    {
     "name": "stdout",
     "output_type": "stream",
     "text": [
      "vola = [0.38, 0.3899358921669048, 0.4190266508548909, 0.4290299125624384, 0.4388849507558898, 0.40999593694734754, 0.3894837863793318, 0.37905898199922133, 0.3461374176665807, 0.3234638899338086]\n\nvolb = sigma(t) = [ a( T - t ) + d ] * exp( -b * ( T - t ) ) + c, a = 1.08799189456e-06 b = 8.28095700796 c = -0.408977602147 d = 0.0718310026289\n\nvolc = sigma(t) = phi(i) * [ a( T(i) - t ) + d ] * exp( -b * ( T(i) - t ) ) + c, a = 1.26026544249e-06, b = 8.28095699559, c = -0.408974969299, d = 0.0718328660605\nphi = [0.5012403933757014, 0.6939049353729491, 0.8635862089476198, 1.0109891107166669, 1.1450322442318541, 1.249817996025942, 1.337156111490171, 1.4148880315461683, 1.4763740960173226, 1.5279566959395265]\n\ncora = rho(i,j) = exp( -beta | T(i) - T(j) |), beta = 0.9\n\n"
     ]
    }
   ],
   "source": [
    "print(\"vola = \" + str(vola) + \"\\n\")\n",
    "print(\"volb = \" + str(volb) + \"\\n\")\n",
    "print(\"volc = \" + str(volc) + \"\\n\")\n",
    "print(\"cora = \" + str(cora) + \"\\n\")"
   ]
  },
  {
   "cell_type": "code",
   "execution_count": 17,
   "metadata": {},
   "outputs": [
    {
     "name": "stdout",
     "output_type": "stream",
     "text": [
      "[-0.001856080721471243, -0.0020060115918751373, -0.002000056790372295, -0.0016487561283956968, -0.00096337665544274592, 0.0, 0.0011292626788018431, 0.0020533065470711544, 0.0025364519401369838, 0.0028516724635996066]\n"
     ]
    }
   ],
   "source": [
    "\n",
    "print(testLMM.getDrift(r0))"
   ]
  },
  {
   "cell_type": "code",
   "execution_count": 8,
   "metadata": {},
   "outputs": [],
   "source": [
    "aRes = testLMM.simulate(1.5)\n"
   ]
  },
  {
   "cell_type": "code",
   "execution_count": 9,
   "metadata": {},
   "outputs": [
    {
     "name": "stdout",
     "output_type": "stream",
     "text": [
      "At time 0.0, the rate structure is [0.005, 0.01, 0.016, 0.02, 0.024, 0.027, 0.03, 0.033, 0.035, 0.037]\nAt time 0.25, the rate structure is [0.0042264937632737745, 0.0089132277680254134, 0.014619144828716067, 0.019931484810562571, 0.022500295228314642, 0.030550148010690257, 0.023916650213617479, 0.03185911748688694, 0.038363320828167152, 0.040343550331996804]\nAt time 0.5, the rate structure is [0.0036514602648446818, 0.0094622970322467519, 0.013390952708028727, 0.01710936481290426, 0.017422459920730257, 0.022067136614436149, 0.02827638659725059, 0.039455186644888493, 0.041516550876730098, 0.038366821919368702]\nAt time 0.75, the rate structure is [None, 0.0099694730757518661, 0.012368092041636223, 0.021181141757048313, 0.014709878054064646, 0.015629007208317478, 0.03604018468179656, 0.053587609413493324, 0.032466999426592848, 0.051742820735802775]\nAt time 1.0, the rate structure is [None, None, 0.012805379060165529, 0.015280972730045797, 0.01628784545325436, 0.021418989866152732, 0.03847542121273656, 0.054667167641862628, 0.038482554842577177, 0.049853198317937809]\nAt time 1.25, the rate structure is [None, None, None, 0.017893150726971417, 0.012800114106198668, 0.02119329420657105, 0.033654436352160942, 0.057891507264951042, 0.031116950081486024, 0.04436708172212047]\nAt time 1.5, the rate structure is [None, None, None, None, 0.014425481959097076, 0.027083636707397243, 0.032877440176389688, 0.051172443369294891, 0.033471295245440284, 0.059283627597450136]\nAt time 1.75, the rate structure is [None, None, None, None, None, 0.029953040228422045, 0.021708997400679931, 0.050473020911611911, 0.023406921180849166, 0.050129717540436665]\n"
     ]
    }
   ],
   "source": [
    "\n",
    "for ele in aRes:\n",
    "    print(ele)"
   ]
  },
  {
   "cell_type": "code",
   "execution_count": 10,
   "metadata": {},
   "outputs": [
    {
     "name": "stdout",
     "output_type": "stream",
     "text": [
      "0.013390952708\n"
     ]
    }
   ],
   "source": [
    "print(aRes.get(0.5, 2))"
   ]
  },
  {
   "cell_type": "code",
   "execution_count": 11,
   "metadata": {},
   "outputs": [
    {
     "data": {
      "text/plain": [
       "1"
      ]
     },
     "execution_count": 11,
     "metadata": {},
     "output_type": "execute_result"
    }
   ],
   "source": [
    "\n",
    "bisect.bisect_left(ctp, 0.25 + 0.25)\n"
   ]
  },
  {
   "cell_type": "code",
   "execution_count": 12,
   "metadata": {},
   "outputs": [
    {
     "data": {
      "text/plain": [
       "[None,\n -0.0015592167288734165,\n -0.0014963732406510792,\n -0.0012659145948247276,\n -0.00082493298979365785,\n 0.0,\n 0.0011799504112359812,\n 0.0023767699692969495,\n 0.0033231050784692947,\n 0.0035613650562446022]"
      ]
     },
     "execution_count": 12,
     "metadata": {},
     "output_type": "execute_result"
    }
   ],
   "source": [
    "testLMM.getDrift(aRes[2])"
   ]
  },
  {
   "cell_type": "code",
   "execution_count": null,
   "metadata": {},
   "outputs": [],
   "source": []
  }
 ],
 "metadata": {
  "kernelspec": {
   "display_name": "Python 2",
   "language": "python",
   "name": "python2"
  },
  "language_info": {
   "codemirror_mode": {
    "name": "ipython",
    "version": 2
   },
   "file_extension": ".py",
   "mimetype": "text/x-python",
   "name": "python",
   "nbconvert_exporter": "python",
   "pygments_lexer": "ipython2",
   "version": "2.7.6"
  }
 },
 "nbformat": 4,
 "nbformat_minor": 0
}
